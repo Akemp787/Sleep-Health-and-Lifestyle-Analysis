{
 "cells": [
  {
   "cell_type": "code",
   "execution_count": 1,
   "metadata": {},
   "outputs": [
    {
     "name": "stderr",
     "output_type": "stream",
     "text": [
      "C:\\Users\\tpreg\\AppData\\Local\\Temp\\ipykernel_12240\\1946111561.py:9: MovedIn20Warning: The ``declarative_base()`` function is now available as sqlalchemy.orm.declarative_base(). (deprecated since: 2.0) (Background on SQLAlchemy 2.0 at: https://sqlalche.me/e/b8d9)\n",
      "  Base = declarative_base()\n"
     ]
    }
   ],
   "source": [
    "# Python SQL toolkit and Object Relational Mapper\n",
    "import sqlalchemy\n",
    "from sqlalchemy.ext.automap import automap_base\n",
    "from sqlalchemy.orm import Session\n",
    "from sqlalchemy import create_engine, text, inspect, func\n",
    "from sqlalchemy import Column, Integer, String, Float\n",
    "\n",
    "from sqlalchemy.ext.declarative import declarative_base\n",
    "Base = declarative_base()"
   ]
  },
  {
   "cell_type": "code",
   "execution_count": null,
   "metadata": {},
   "outputs": [],
   "source": [
    "class Person(Base):\n",
    "    __tablename__ = 'person'\n",
    "    id = Column(Integer, primary_key=True)\n",
    "    gender_id = Column(Integer)\n",
    "    age = Column(Integer)\n",
    "    occupation_id = Column(Integer)"
   ]
  },
  {
   "cell_type": "code",
   "execution_count": null,
   "metadata": {},
   "outputs": [],
   "source": [
    "class Sleep(Base):\n",
    "    __tablename__ = 'sleep'\n",
    "    id = Column(Integer, primary_key=True)\n",
    "    person_id = Column(Integer, foreign_key=True)\n",
    "    sleep_duration = Column(Float)\n",
    "    sleep_quality = Column(Integer)\n",
    "    sleep_disorder_id = Column(Integer)"
   ]
  },
  {
   "cell_type": "code",
   "execution_count": null,
   "metadata": {},
   "outputs": [],
   "source": [
    "class Activity(Base):\n",
    "    __tablename__ = 'activity'\n",
    "    id = Column(Integer, primary_key=True)\n",
    "    person_id = Column(Integer, foreign_key=True)\n",
    "    activity_level = Column(Integer)\n",
    "    daily_steps = Column(Integer)"
   ]
  },
  {
   "cell_type": "code",
   "execution_count": null,
   "metadata": {},
   "outputs": [],
   "source": [
    "class Gender(Base):\n",
    "    __tablename__ = 'gender'\n",
    "    id = Column(Integer, primary_key=True)\n",
    "    gender_name = Column(String(12))"
   ]
  },
  {
   "cell_type": "code",
   "execution_count": null,
   "metadata": {},
   "outputs": [],
   "source": [
    "class Occupation(Base):\n",
    "    __tablename__ = 'occupation'\n",
    "    id = Column(Integer, primary_key=True)\n",
    "    occupation_name = Column(String(30))"
   ]
  },
  {
   "cell_type": "code",
   "execution_count": null,
   "metadata": {},
   "outputs": [],
   "source": [
    "class Health(Base):\n",
    "    __tablename__ = 'health'\n",
    "    id = Column(Integer, primary_key=True)\n",
    "    person_id = Column(Integer, foreign_key=True)\n",
    "    blood_pressure = Column(String(12))\n",
    "    stress_level = Column(Integer)\n",
    "    heart_rate = Column(Integer)\n",
    "    systolic = Column(Integer)\n",
    "    diastolic = Column(Integer)\n",
    "    bmi_id = Column(Integer, foreign_key=True)"
   ]
  },
  {
   "cell_type": "code",
   "execution_count": null,
   "metadata": {},
   "outputs": [],
   "source": [
    "class SleepDisorder(Base):\n",
    "    __tablename__ = 'sleep_disorder'\n",
    "    id = Column(Integer, primary_key=True)\n",
    "    sleep_disorder_name = Column(String(20))"
   ]
  },
  {
   "cell_type": "code",
   "execution_count": null,
   "metadata": {},
   "outputs": [],
   "source": [
    "class BMICategory(Base):\n",
    "    __tablename__ = 'bmi'\n",
    "    id = Column(Integer, primary_key=True)\n",
    "    bmi_name = Column(String(20))"
   ]
  }
 ],
 "metadata": {
  "kernelspec": {
   "display_name": "base",
   "language": "python",
   "name": "python3"
  },
  "language_info": {
   "codemirror_mode": {
    "name": "ipython",
    "version": 3
   },
   "file_extension": ".py",
   "mimetype": "text/x-python",
   "name": "python",
   "nbconvert_exporter": "python",
   "pygments_lexer": "ipython3",
   "version": "3.11.5"
  }
 },
 "nbformat": 4,
 "nbformat_minor": 2
}
