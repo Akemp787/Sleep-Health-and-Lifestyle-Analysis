{
 "cells": [
  {
   "cell_type": "code",
   "execution_count": 1,
   "metadata": {},
   "outputs": [],
   "source": [
    "import numpy as np\n",
    "import seaborn as sns\n",
    "import pandas as pd\n",
    "import matplotlib.pyplot as plt\n",
    "\n",
    "import ipywidgets as widgets\n",
    "\n",
    "import sqlalchemy\n",
    "from sqlalchemy.ext.automap import automap_base\n",
    "from sqlalchemy.orm import Session\n",
    "from sqlalchemy import create_engine, func, inspect\n",
    "from ipywidgets import interact\n",
    "\n",
    "from flask import Flask, jsonify"
   ]
  },
  {
   "cell_type": "code",
   "execution_count": 2,
   "metadata": {},
   "outputs": [],
   "source": [
    "engine = create_engine(\"sqlite:///Resources/database.sqlite\")\n",
    "conn=engine.connect()\n",
    "\n",
    "# reflect an existing database into a new model\n",
    "base = automap_base()\n",
    "# reflect the tables\n",
    "# base.prepare(engine,reflect=True)\n",
    "\n",
    "base.prepare(autoload_with=engine)"
   ]
  },
  {
   "cell_type": "code",
   "execution_count": 35,
   "metadata": {},
   "outputs": [
    {
     "data": {
      "application/vnd.jupyter.widget-view+json": {
       "model_id": "4e973d72a8d34de4889ec51a00e7641a",
       "version_major": 2,
       "version_minor": 0
      },
      "text/plain": [
       "HBox(children=(Dropdown(description='Category', options={'Age': 'age', 'Stress Level': 'stress_level', 'Heart …"
      ]
     },
     "metadata": {},
     "output_type": "display_data"
    },
    {
     "data": {
      "application/vnd.jupyter.widget-view+json": {
       "model_id": "7a99ee81e05a40e3836add2bd04c9987",
       "version_major": 2,
       "version_minor": 0
      },
      "text/plain": [
       "Output()"
      ]
     },
     "metadata": {},
     "output_type": "display_data"
    }
   ],
   "source": [
    "data = pd.read_sql(\n",
    "f\"SELECT * FROM person AS p \\\n",
    "    INNER JOIN occupation AS o ON o.id = p.occupation_id\\\n",
    "    INNER JOIN gender AS g ON p.gender_id = g.id\\\n",
    "    INNER JOIN health AS h ON h.person_id = p.id\\\n",
    "    INNER JOIN bmi AS b ON b.id = h.bmi_id\",\n",
    "    conn\n",
    "    )\n",
    "\n",
    "# Possible numerical columns to choose instead of just 'age'\n",
    "\n",
    "dd = widgets.Dropdown(\n",
    "    options = {\"Age\": \"age\", \"Stress Level\": \"stress_level\", \"Heart Rate\": \"heart_rate\", \"Systolic\": \"systolic\", \"Diastolic\": \"diastolic\"},\n",
    "    value = \"age\",\n",
    "    description = \"Category\"\n",
    ")\n",
    "\n",
    "# genders = data[\"gender_name\"].unique().tolist()\n",
    "\n",
    "dd1 = widgets.Dropdown(\n",
    "    options = [\"All\", \"Male\", \"Female\"],\n",
    "    value = \"All\",\n",
    "    description = \"Gender\"\n",
    ")\n",
    "\n",
    "# bmis = data[\"bmi_name\"].unique().tolist()\n",
    "\n",
    "dd2 = widgets.Dropdown(\n",
    "    options = [\"All\", \"Normal\", \"Overweight\", \"Obese\"],\n",
    "    value = \"All\",\n",
    "    description = \"BMI Type\"\n",
    ")\n",
    "\n",
    "def draw_plot(column, item1, item2):    \n",
    "    if (item1 == \"All\"):\n",
    "        if (item2 == \"All\"):\n",
    "            mask = (data[\"gender_name\"].isin([\"Male\", \"Female\"])) & (data[\"bmi_name\"].isin([\"Normal\", \"Overweight\", \"Obese\"]))\n",
    "        else:\n",
    "            mask = (data[\"gender_name\"].isin([\"Male\", \"Female\"])) & (data[\"bmi_name\"] == item2)\n",
    "    else:\n",
    "        if (item2 == \"All\"):\n",
    "            mask = (data[\"gender_name\"] == item1) & (data[\"bmi_name\"].isin([\"Normal\", \"Overweight\", \"Obese\"]))\n",
    "        else:\n",
    "            mask = (data[\"gender_name\"] == item1) & (data[\"bmi_name\"] == item2)\n",
    "    #sns.set_theme(style = \"ticks\")\n",
    "    f, ax = plt.subplots(figsize = (8, 6))\n",
    "    sns.boxplot(x = data.loc[mask, column],\n",
    "                y = data.loc[mask, \"occupation_name\"], \n",
    "                hue = data[\"occupation_name\"],\n",
    "                palette = \"Paired\",\n",
    "                width = 0.6,\n",
    "                legend = False\n",
    "    )\n",
    "    sns.stripplot(\n",
    "        x = data.loc[mask, column],\n",
    "        y = data.loc[mask, \"occupation_name\"],\n",
    "        color = \"black\",\n",
    "        dodge = True,\n",
    "        edgecolor = \"black\"\n",
    "    )\n",
    "\n",
    "    sns.set_style(rc = {\"axes.facecolor\": \"lightyellow\"})\n",
    "\n",
    "    column_proper = column.replace(\"_\", \" \").title()\n",
    "    ax.set_xlabel(column_proper, fontsize = 15)\n",
    "    ax.set_ylabel(\"Occupation\", fontsize = 15)\n",
    "    plt.title(f\"Distribution of {column_proper} per Occupation ({item1})\", fontsize = 18)\n",
    "\n",
    "ddbox = widgets.HBox([dd, dd1, dd2])\n",
    "\n",
    "out1 = widgets.interactive_output(draw_plot, {\"column\": dd, \"item1\": dd1, \"item2\": dd2})\n",
    "display(ddbox, out1)"
   ]
  },
  {
   "cell_type": "code",
   "execution_count": null,
   "metadata": {},
   "outputs": [],
   "source": []
  }
 ],
 "metadata": {
  "kernelspec": {
   "display_name": "base",
   "language": "python",
   "name": "python3"
  },
  "language_info": {
   "codemirror_mode": {
    "name": "ipython",
    "version": 3
   },
   "file_extension": ".py",
   "mimetype": "text/x-python",
   "name": "python",
   "nbconvert_exporter": "python",
   "pygments_lexer": "ipython3",
   "version": "3.11.5"
  }
 },
 "nbformat": 4,
 "nbformat_minor": 2
}
