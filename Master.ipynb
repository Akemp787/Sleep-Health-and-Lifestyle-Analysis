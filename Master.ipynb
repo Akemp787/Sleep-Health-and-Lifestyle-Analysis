{
 "cells": [
  {
   "cell_type": "markdown",
   "metadata": {},
   "source": [
    "### Importing Set Up - using Python 3.11.5"
   ]
  },
  {
   "cell_type": "code",
   "execution_count": 1,
   "metadata": {},
   "outputs": [],
   "source": [
    "import numpy as np\n",
    "import seaborn as sns\n",
    "import pandas as pd\n",
    "import matplotlib.pyplot as plt\n",
    "\n",
    "import ipywidgets as widgets\n",
    "\n",
    "import sqlalchemy\n",
    "from sqlalchemy.ext.automap import automap_base\n",
    "from sqlalchemy.orm import Session\n",
    "from sqlalchemy import create_engine, func, inspect\n",
    "from IPython.display import display"
   ]
  },
  {
   "cell_type": "markdown",
   "metadata": {},
   "source": [
    "### Database Creation\n",
    "\n",
    "This is a separate file that we wrote to take care of all of the ETL processes."
   ]
  },
  {
   "cell_type": "code",
   "execution_count": 2,
   "metadata": {},
   "outputs": [],
   "source": [
    "execfile(\"Setup_and_Organization/Database Setup.py\")"
   ]
  },
  {
   "cell_type": "markdown",
   "metadata": {},
   "source": [
    "### SQLite Database Connection"
   ]
  },
  {
   "cell_type": "code",
   "execution_count": 3,
   "metadata": {},
   "outputs": [],
   "source": [
    "engine = create_engine(\"sqlite:///Resources/database.sqlite\")\n",
    "conn=engine.connect()\n",
    "\n",
    "# reflect an existing database into a new model\n",
    "base = automap_base()\n",
    "# reflect the tables\n",
    "# base.prepare(engine,reflect=True)\n",
    "\n",
    "base.prepare(autoload_with=engine)"
   ]
  },
  {
   "cell_type": "markdown",
   "metadata": {},
   "source": [
    "### Data File Loading\n",
    "\n",
    "Once we have a connection to the database, we want to get the data we desire so that we can create visualizations with that data. We create one DataFrame that all visualizations can use. While all of the joins will create many columns, we're only selecting the columns that we need for the visualizations."
   ]
  },
  {
   "cell_type": "code",
   "execution_count": 4,
   "metadata": {},
   "outputs": [
    {
     "data": {
      "text/html": [
       "<div>\n",
       "<style scoped>\n",
       "    .dataframe tbody tr th:only-of-type {\n",
       "        vertical-align: middle;\n",
       "    }\n",
       "\n",
       "    .dataframe tbody tr th {\n",
       "        vertical-align: top;\n",
       "    }\n",
       "\n",
       "    .dataframe thead th {\n",
       "        text-align: right;\n",
       "    }\n",
       "</style>\n",
       "<table border=\"1\" class=\"dataframe\">\n",
       "  <thead>\n",
       "    <tr style=\"text-align: right;\">\n",
       "      <th></th>\n",
       "      <th>gender_name</th>\n",
       "      <th>bmi_name</th>\n",
       "      <th>occupation_name</th>\n",
       "      <th>stress_level</th>\n",
       "      <th>heart_rate</th>\n",
       "      <th>systolic</th>\n",
       "      <th>diastolic</th>\n",
       "      <th>gender_id</th>\n",
       "      <th>sleep_duration</th>\n",
       "      <th>sleep_quality</th>\n",
       "      <th>age</th>\n",
       "      <th>sleep_disorder_name</th>\n",
       "      <th>person_id</th>\n",
       "    </tr>\n",
       "  </thead>\n",
       "  <tbody>\n",
       "    <tr>\n",
       "      <th>0</th>\n",
       "      <td>Male</td>\n",
       "      <td>Overweight</td>\n",
       "      <td>Software Engineer</td>\n",
       "      <td>6</td>\n",
       "      <td>77</td>\n",
       "      <td>126</td>\n",
       "      <td>83</td>\n",
       "      <td>0</td>\n",
       "      <td>6.1</td>\n",
       "      <td>6</td>\n",
       "      <td>27</td>\n",
       "      <td>None</td>\n",
       "      <td>1</td>\n",
       "    </tr>\n",
       "    <tr>\n",
       "      <th>1</th>\n",
       "      <td>Male</td>\n",
       "      <td>Obese</td>\n",
       "      <td>Software Engineer</td>\n",
       "      <td>8</td>\n",
       "      <td>85</td>\n",
       "      <td>140</td>\n",
       "      <td>90</td>\n",
       "      <td>0</td>\n",
       "      <td>5.9</td>\n",
       "      <td>4</td>\n",
       "      <td>28</td>\n",
       "      <td>Insomnia</td>\n",
       "      <td>6</td>\n",
       "    </tr>\n",
       "    <tr>\n",
       "      <th>2</th>\n",
       "      <td>Male</td>\n",
       "      <td>Normal</td>\n",
       "      <td>Software Engineer</td>\n",
       "      <td>5</td>\n",
       "      <td>70</td>\n",
       "      <td>120</td>\n",
       "      <td>80</td>\n",
       "      <td>0</td>\n",
       "      <td>7.5</td>\n",
       "      <td>8</td>\n",
       "      <td>35</td>\n",
       "      <td>None</td>\n",
       "      <td>85</td>\n",
       "    </tr>\n",
       "    <tr>\n",
       "      <th>3</th>\n",
       "      <td>Male</td>\n",
       "      <td>Normal</td>\n",
       "      <td>Software Engineer</td>\n",
       "      <td>5</td>\n",
       "      <td>70</td>\n",
       "      <td>120</td>\n",
       "      <td>80</td>\n",
       "      <td>0</td>\n",
       "      <td>7.5</td>\n",
       "      <td>8</td>\n",
       "      <td>35</td>\n",
       "      <td>None</td>\n",
       "      <td>93</td>\n",
       "    </tr>\n",
       "    <tr>\n",
       "      <th>4</th>\n",
       "      <td>Male</td>\n",
       "      <td>Normal</td>\n",
       "      <td>Doctor</td>\n",
       "      <td>8</td>\n",
       "      <td>75</td>\n",
       "      <td>125</td>\n",
       "      <td>80</td>\n",
       "      <td>0</td>\n",
       "      <td>6.2</td>\n",
       "      <td>6</td>\n",
       "      <td>28</td>\n",
       "      <td>None</td>\n",
       "      <td>2</td>\n",
       "    </tr>\n",
       "    <tr>\n",
       "      <th>...</th>\n",
       "      <td>...</td>\n",
       "      <td>...</td>\n",
       "      <td>...</td>\n",
       "      <td>...</td>\n",
       "      <td>...</td>\n",
       "      <td>...</td>\n",
       "      <td>...</td>\n",
       "      <td>...</td>\n",
       "      <td>...</td>\n",
       "      <td>...</td>\n",
       "      <td>...</td>\n",
       "      <td>...</td>\n",
       "      <td>...</td>\n",
       "    </tr>\n",
       "    <tr>\n",
       "      <th>369</th>\n",
       "      <td>Female</td>\n",
       "      <td>Overweight</td>\n",
       "      <td>Scientist</td>\n",
       "      <td>6</td>\n",
       "      <td>76</td>\n",
       "      <td>128</td>\n",
       "      <td>85</td>\n",
       "      <td>1</td>\n",
       "      <td>6.2</td>\n",
       "      <td>6</td>\n",
       "      <td>33</td>\n",
       "      <td>None</td>\n",
       "      <td>69</td>\n",
       "    </tr>\n",
       "    <tr>\n",
       "      <th>370</th>\n",
       "      <td>Female</td>\n",
       "      <td>Overweight</td>\n",
       "      <td>Scientist</td>\n",
       "      <td>6</td>\n",
       "      <td>76</td>\n",
       "      <td>128</td>\n",
       "      <td>85</td>\n",
       "      <td>1</td>\n",
       "      <td>6.2</td>\n",
       "      <td>6</td>\n",
       "      <td>33</td>\n",
       "      <td>None</td>\n",
       "      <td>70</td>\n",
       "    </tr>\n",
       "    <tr>\n",
       "      <th>371</th>\n",
       "      <td>Female</td>\n",
       "      <td>Overweight</td>\n",
       "      <td>Scientist</td>\n",
       "      <td>8</td>\n",
       "      <td>81</td>\n",
       "      <td>131</td>\n",
       "      <td>86</td>\n",
       "      <td>1</td>\n",
       "      <td>5.8</td>\n",
       "      <td>4</td>\n",
       "      <td>34</td>\n",
       "      <td>Sleep Apnea</td>\n",
       "      <td>81</td>\n",
       "    </tr>\n",
       "    <tr>\n",
       "      <th>372</th>\n",
       "      <td>Female</td>\n",
       "      <td>Overweight</td>\n",
       "      <td>Scientist</td>\n",
       "      <td>8</td>\n",
       "      <td>81</td>\n",
       "      <td>131</td>\n",
       "      <td>86</td>\n",
       "      <td>1</td>\n",
       "      <td>5.8</td>\n",
       "      <td>4</td>\n",
       "      <td>34</td>\n",
       "      <td>Sleep Apnea</td>\n",
       "      <td>82</td>\n",
       "    </tr>\n",
       "    <tr>\n",
       "      <th>373</th>\n",
       "      <td>Female</td>\n",
       "      <td>Overweight</td>\n",
       "      <td>Manager</td>\n",
       "      <td>5</td>\n",
       "      <td>75</td>\n",
       "      <td>125</td>\n",
       "      <td>82</td>\n",
       "      <td>1</td>\n",
       "      <td>6.9</td>\n",
       "      <td>7</td>\n",
       "      <td>45</td>\n",
       "      <td>None</td>\n",
       "      <td>264</td>\n",
       "    </tr>\n",
       "  </tbody>\n",
       "</table>\n",
       "<p>374 rows × 13 columns</p>\n",
       "</div>"
      ],
      "text/plain": [
       "    gender_name    bmi_name    occupation_name  stress_level  heart_rate  \\\n",
       "0          Male  Overweight  Software Engineer             6          77   \n",
       "1          Male       Obese  Software Engineer             8          85   \n",
       "2          Male      Normal  Software Engineer             5          70   \n",
       "3          Male      Normal  Software Engineer             5          70   \n",
       "4          Male      Normal             Doctor             8          75   \n",
       "..          ...         ...                ...           ...         ...   \n",
       "369      Female  Overweight          Scientist             6          76   \n",
       "370      Female  Overweight          Scientist             6          76   \n",
       "371      Female  Overweight          Scientist             8          81   \n",
       "372      Female  Overweight          Scientist             8          81   \n",
       "373      Female  Overweight            Manager             5          75   \n",
       "\n",
       "     systolic  diastolic  gender_id  sleep_duration  sleep_quality  age  \\\n",
       "0         126         83          0             6.1              6   27   \n",
       "1         140         90          0             5.9              4   28   \n",
       "2         120         80          0             7.5              8   35   \n",
       "3         120         80          0             7.5              8   35   \n",
       "4         125         80          0             6.2              6   28   \n",
       "..        ...        ...        ...             ...            ...  ...   \n",
       "369       128         85          1             6.2              6   33   \n",
       "370       128         85          1             6.2              6   33   \n",
       "371       131         86          1             5.8              4   34   \n",
       "372       131         86          1             5.8              4   34   \n",
       "373       125         82          1             6.9              7   45   \n",
       "\n",
       "    sleep_disorder_name  person_id  \n",
       "0                  None          1  \n",
       "1              Insomnia          6  \n",
       "2                  None         85  \n",
       "3                  None         93  \n",
       "4                  None          2  \n",
       "..                  ...        ...  \n",
       "369                None         69  \n",
       "370                None         70  \n",
       "371         Sleep Apnea         81  \n",
       "372         Sleep Apnea         82  \n",
       "373                None        264  \n",
       "\n",
       "[374 rows x 13 columns]"
      ]
     },
     "execution_count": 4,
     "metadata": {},
     "output_type": "execute_result"
    }
   ],
   "source": [
    "data = pd.read_sql('SELECT g.gender_name, b.bmi_name, o.occupation_name, h.stress_level, h.heart_rate, h.systolic, h.diastolic, \\\n",
    "            p.gender_id, s.sleep_duration, s.sleep_quality, p.age, sd.sleep_disorder_name, s.person_id\\\n",
    "            FROM person AS p\\\n",
    "            INNER JOIN sleep AS s\\\n",
    "            ON s.person_id = p.id\\\n",
    "            INNER JOIN occupation AS o\\\n",
    "            ON o.id = p.occupation_id\\\n",
    "            INNER JOIN gender AS g\\\n",
    "            ON p.gender_id = g.id\\\n",
    "            INNER JOIN sleep_disorder AS sd\\\n",
    "            ON sd.id = s.sleep_disorder_id\\\n",
    "            INNER JOIN health AS h\\\n",
    "            ON h.person_id = p.id\\\n",
    "            INNER JOIN bmi AS b\\\n",
    "            ON b.id = h.bmi_id',\n",
    "            conn) \n",
    "\n",
    "data"
   ]
  },
  {
   "cell_type": "markdown",
   "metadata": {},
   "source": [
    "### Bryan's Visualization / Interaction"
   ]
  },
  {
   "cell_type": "code",
   "execution_count": 12,
   "metadata": {},
   "outputs": [
    {
     "data": {
      "application/vnd.jupyter.widget-view+json": {
       "model_id": "bb5c3f475d284e3c81ceeedd7c7b1338",
       "version_major": 2,
       "version_minor": 0
      },
      "text/plain": [
       "HBox(children=(Dropdown(description='Category', options={'Age': 'age', 'Stress Level': 'stress_level', 'Heart …"
      ]
     },
     "metadata": {},
     "output_type": "display_data"
    },
    {
     "data": {
      "application/vnd.jupyter.widget-view+json": {
       "model_id": "8324090d4f374814a0ed69f830a9de7d",
       "version_major": 2,
       "version_minor": 0
      },
      "text/plain": [
       "Output()"
      ]
     },
     "metadata": {},
     "output_type": "display_data"
    },
    {
     "data": {
      "image/png": "[encoded data removed]",
      "text/plain": [
       "<Figure size 800x600 with 1 Axes>"
      ]
     },
     "metadata": {},
     "output_type": "display_data"
    }
   ],
   "source": [
    "dd = widgets.Dropdown(\n",
    "    options = {\"Age\": \"age\", \"Stress Level\": \"stress_level\", \"Heart Rate\": \"heart_rate\", \"Systolic\": \"systolic\", \"Diastolic\": \"diastolic\"},\n",
    "    value = \"age\",\n",
    "    description = \"Category\"\n",
    ")\n",
    "\n",
    "# genders = data[\"gender_name\"].unique().tolist()\n",
    "\n",
    "dd1 = widgets.Dropdown(\n",
    "    options = [\"All\", \"Male\", \"Female\"],\n",
    "    value = \"All\",\n",
    "    description = \"Gender\"\n",
    ")\n",
    "\n",
    "# bmis = data[\"bmi_name\"].unique().tolist()\n",
    "\n",
    "dd2 = widgets.Dropdown(\n",
    "    options = [\"All\", \"Normal\", \"Overweight\", \"Obese\"],\n",
    "    value = \"All\",\n",
    "    description = \"BMI Type\"\n",
    ")\n",
    "\n",
    "def draw_plot(column, item1, item2):    \n",
    "    \n",
    "    if (item1 == \"All\"):\n",
    "        if (item2 == \"All\"):\n",
    "            mask = (data[\"gender_name\"].isin([\"Male\", \"Female\"])) & (data[\"bmi_name\"].isin([\"Normal\", \"Overweight\", \"Obese\"]))\n",
    "        else:\n",
    "            mask = (data[\"gender_name\"].isin([\"Male\", \"Female\"])) & (data[\"bmi_name\"] == item2)\n",
    "    else:\n",
    "        if (item2 == \"All\"):\n",
    "            mask = (data[\"gender_name\"] == item1) & (data[\"bmi_name\"].isin([\"Normal\", \"Overweight\", \"Obese\"]))\n",
    "        else:\n",
    "            mask = (data[\"gender_name\"] == item1) & (data[\"bmi_name\"] == item2)\n",
    "    #sns.set_theme(style = \"ticks\")\n",
    "    f, ax = plt.subplots(figsize = (8, 6))\n",
    "    sns.boxplot(x = data.loc[mask, column],\n",
    "                y = data.loc[mask, \"occupation_name\"], \n",
    "                hue = data[\"occupation_name\"],\n",
    "                palette = \"Paired\",\n",
    "                width = 0.6,\n",
    "                legend = False\n",
    "    )\n",
    "    sns.stripplot(\n",
    "        x = data.loc[mask, column],\n",
    "        y = data.loc[mask, \"occupation_name\"],\n",
    "        color = \"black\",\n",
    "        dodge = True,\n",
    "        edgecolor = \"black\"\n",
    "    )\n",
    "\n",
    "    column_proper = column.replace(\"_\", \" \").title()\n",
    "    ax.set_xlabel(column_proper, fontsize = 15)\n",
    "    ax.set_ylabel(\"Occupation\", fontsize = 15)\n",
    "    plt.title(f\"Distribution of {column_proper} per Occupation ({item1})\", fontsize = 18)\n",
    "\n",
    "ddbox = widgets.HBox([dd, dd1, dd2])\n",
    "out1 = widgets.interactive_output(draw_plot, {\"column\": dd, \"item1\": dd1, \"item2\": dd2})\n",
    "display(ddbox, out1)"
   ]
  },
  {
   "cell_type": "markdown",
   "metadata": {},
   "source": [
    "### Reed's Visualization / Interaction"
   ]
  },
  {
   "cell_type": "code",
   "execution_count": 13,
   "metadata": {},
   "outputs": [
    {
     "data": {
      "application/vnd.jupyter.widget-view+json": {
       "model_id": "345e1de9fab14df98552adfa471870b1",
       "version_major": 2,
       "version_minor": 0
      },
      "text/plain": [
       "Dropdown(description='Gender:', options={'Male': 0, 'Female': 1}, value=0)"
      ]
     },
     "metadata": {},
     "output_type": "display_data"
    },
    {
     "data": {
      "application/vnd.jupyter.widget-view+json": {
       "model_id": "e49e918cb62a429a9ba841d8383d5910",
       "version_major": 2,
       "version_minor": 0
      },
      "text/plain": [
       "Output()"
      ]
     },
     "metadata": {},
     "output_type": "display_data"
    }
   ],
   "source": [
    "# Create a dropdown widget to select gender\n",
    "gender_dropdown = widgets.Dropdown(\n",
    "    options={'Male': 0, 'Female': 1},\n",
    "    description='Gender:'\n",
    ")\n",
    "def draw_plot2(item):\n",
    "    sns.relplot(x=data.loc[data[\"gender_id\"] == item, \"age\"],\n",
    "                y=data.loc[data[\"gender_id\"]== item,\"sleep_duration\"],\n",
    "                hue=data.loc[data[\"gender_id\"]== item,\"stress_level\"],\n",
    "                size=data.loc[data[\"gender_id\"]== item,\"sleep_quality\"],\n",
    "                sizes=(40, 400),\n",
    "                alpha=.5,\n",
    "                palette=\"Paired\",\n",
    "                height=6,\n",
    "                data=data)\\\n",
    "            .set(title= \"Sleep Duration vs Age\")\n",
    "out1= widgets.interactive_output(draw_plot2,{\"item\":gender_dropdown})\n",
    "display(gender_dropdown,out1)"
   ]
  },
  {
   "cell_type": "markdown",
   "metadata": {},
   "source": [
    "### Andrew's Visualization / Interaction"
   ]
  },
  {
   "cell_type": "code",
   "execution_count": 21,
   "metadata": {
    "scrolled": false
   },
   "outputs": [
    {
     "data": {
      "image/png": "[encoded data removed]",
      "text/plain": [
       "<Figure size 1000x600 with 1 Axes>"
      ]
     },
     "metadata": {},
     "output_type": "display_data"
    },
    {
     "data": {
      "image/png": "[encoded data removed]",
      "text/plain": [
       "<Figure size 1000x600 with 1 Axes>"
      ]
     },
     "metadata": {},
     "output_type": "display_data"
    }
   ],
   "source": [
    "# Set a custom color palette\n",
    "sns.set_palette(\"husl\")\n",
    "\n",
    "# 1. Sleep Duration/Quality vs Occupation\n",
    "plt.figure(figsize=(10, 6))\n",
    "ax = sns.barplot(data=data, x='occupation_name', y='sleep_duration', hue='sleep_quality')\n",
    "plt.title('Sleep Duration/Quality vs Occupation')\n",
    "plt.xlabel('Occupation')\n",
    "plt.ylabel('Sleep Duration')\n",
    "# Rotate the job titles by 45 degrees\n",
    "plt.xticks(rotation=45)\n",
    "# Customize legend labels as numbers from 0 to 10 and legend title\n",
    "legend_labels = [f'{label}/10' for label in range(11)]\n",
    "legend_title = 'Quality of Sleep out of 10'\n",
    "legend = plt.legend(title=legend_title, loc='upper left', fontsize='small', bbox_to_anchor=(1, 1))\n",
    "if len(legend_labels) == len(legend.get_texts()):\n",
    "    for i, text in enumerate(legend_labels):\n",
    "        legend.get_texts()[i].set_text(text)\n",
    "plt.tight_layout()\n",
    "\n",
    "#2. Stress Level vs Occupation\n",
    "plt.figure(figsize=(10, 6))\n",
    "sns.barplot(data=data, x='occupation_name', y='stress_level')\n",
    "plt.title('Stress Level vs Occupation')\n",
    "plt.xlabel('Occupation')\n",
    "plt.ylabel('Stress Level')\n",
    "plt.xticks(rotation=45)\n",
    "plt.tight_layout()\n",
    "\n",
    "plt.show()"
   ]
  },
  {
   "cell_type": "code",
   "execution_count": 24,
   "metadata": {
    "scrolled": false
   },
   "outputs": [
    {
     "data": {
      "application/vnd.jupyter.widget-view+json": {
       "model_id": "ab6bfb20659d4249b6da899f80cf76ff",
       "version_major": 2,
       "version_minor": 0
      },
      "text/plain": [
       "HBox(children=(Dropdown(description='Category', options=('Male', 'Female'), value='Male'), Dropdown(descriptio…"
      ]
     },
     "metadata": {},
     "output_type": "display_data"
    },
    {
     "data": {
      "application/vnd.jupyter.widget-view+json": {
       "model_id": "acc5a010206c4c91bc36eb2830dfadb7",
       "version_major": 2,
       "version_minor": 0
      },
      "text/plain": [
       "Output()"
      ]
     },
     "metadata": {},
     "output_type": "display_data"
    }
   ],
   "source": [
    "import math\n",
    "\n",
    "# Define a function to create age groups\n",
    "def create_age_groups(age):\n",
    "    return f\"{math.floor(age / 10) * 10}-{math.floor(age / 10) * 10 + 9}\"\n",
    "\n",
    "# Apply the function to create age groups and create a new column in the DataFrame\n",
    "data['age_group'] = data['age'].apply(create_age_groups)\n",
    "\n",
    "# Set the custom color palette\n",
    "sns.set_palette(\"husl\")\n",
    "\n",
    "# Dropdown for gender selection\n",
    "dd_gender = widgets.Dropdown(\n",
    "    options=[\"Male\", \"Female\"],\n",
    "    value=\"Male\",\n",
    "    description=\"Category\"\n",
    ")\n",
    "\n",
    "# Dropdown for selecting sleep duration or sleep quality\n",
    "dd_column = widgets.Dropdown(\n",
    "    options={\"Sleep Duration\": \"sleep_duration\", \"Sleep Quality\": \"sleep_quality\"},\n",
    "    value=\"sleep_duration\",\n",
    "    description=\"Sleep Type\"\n",
    ")\n",
    "\n",
    "def plot_barcharts1(column, gender):\n",
    "    data1 = data[data[\"gender_name\"] == gender]  # Filter data based on selected gender\n",
    "    plt.figure(figsize=(10, 6))\n",
    "    ax = sns.barplot(data=data1, x=\"age_group\", y=column, hue=\"age_group\")  # Set 'age_group' as x and hue\n",
    "    plt.title(f'Gender/Age vs {column.replace(\"_\", \" \").title()}')\n",
    "    plt.xlabel(f'Gender ({gender})')\n",
    "    plt.ylabel(column.replace(\"_\", \" \").title())\n",
    "    legend = plt.legend(title='Age Group', loc='upper left', fontsize='small', bbox_to_anchor=(1, 1))\n",
    "    legend.set_title('Age Group', prop={'size': 'small'})\n",
    "    plt.xticks(rotation=45)  # Rotate x-axis labels for better readability\n",
    "    plt.tight_layout()\n",
    "\n",
    "# Arrange the dropdowns horizontally\n",
    "ddbox = widgets.HBox([dd_gender, dd_column])\n",
    "\n",
    "# Display interactive output\n",
    "out1 = widgets.interactive_output(plot_barcharts1, {\"gender\": dd_gender, \"column\": dd_column})\n",
    "\n",
    "# Display dropdowns and output\n",
    "display(ddbox, out1)\n",
    "\n"
   ]
  },
  {
   "cell_type": "code",
   "execution_count": 22,
   "metadata": {
    "scrolled": false
   },
   "outputs": [
    {
     "data": {
      "application/vnd.jupyter.widget-view+json": {
       "model_id": "fa76b18e128e45ddaa1df2cc8461c340",
       "version_major": 2,
       "version_minor": 0
      },
      "text/plain": [
       "Dropdown(description='Sleep Disorder', options=('None', 'Insomnia', 'Sleep Apnea'), value='None')"
      ]
     },
     "metadata": {},
     "output_type": "display_data"
    },
    {
     "data": {
      "application/vnd.jupyter.widget-view+json": {
       "model_id": "94a26253be304d648e35e6f78d99bab2",
       "version_major": 2,
       "version_minor": 0
      },
      "text/plain": [
       "Output()"
      ]
     },
     "metadata": {},
     "output_type": "display_data"
    }
   ],
   "source": [
    "# Set a custom color palette\n",
    "sns.set_palette(\"husl\")\n",
    "\n",
    "# 4. Sleep Duration & Quality of Sleep vs Sleep Disorder\n",
    "\n",
    "# Dropdown for Sleep Duration/Quality vs Sleep Disorder\n",
    "dd_sleep_disorder_4 = widgets.Dropdown(\n",
    "    options=data[\"sleep_disorder_name\"].unique(),\n",
    "    value=data[\"sleep_disorder_name\"].unique()[0],\n",
    "    description=\"Sleep Disorder\"\n",
    ")\n",
    "\n",
    "# Dropdown for Quality of Sleep vs Sleep Disorder\n",
    "dd_sleep_disorder_5 = widgets.Dropdown(\n",
    "    options=data[\"sleep_disorder_name\"].unique(),\n",
    "    value=data[\"sleep_disorder_name\"].unique()[0],\n",
    "    description=\"Sleep Disorder\"\n",
    ")\n",
    "\n",
    "def plot_charts_4_and_5(sleep_disorder):\n",
    "    plt.figure(figsize=(10, 6))\n",
    "    sns.barplot(data=data[data[\"sleep_disorder_name\"] == sleep_disorder], x='sleep_disorder_name', y='sleep_duration')\n",
    "    plt.title('Sleep Duration vs Sleep Disorder')\n",
    "    plt.xlabel('Sleep Disorder')\n",
    "    plt.ylabel('Sleep Duration')\n",
    "    plt.xticks(rotation=45)\n",
    "    plt.tight_layout()\n",
    "    plt.show()\n",
    "    \n",
    "    plt.figure(figsize=(10, 6))\n",
    "    sns.barplot(data=data[data[\"sleep_disorder_name\"] == sleep_disorder], x='sleep_disorder_name', y='sleep_quality')\n",
    "    plt.title('Quality of Sleep vs Sleep Disorder')\n",
    "    plt.xlabel('Sleep Disorder')\n",
    "    plt.ylabel('Quality of Sleep')\n",
    "    plt.xticks(rotation=45)\n",
    "    plt.tight_layout()\n",
    "    plt.show()\n",
    "\n",
    "# Interactive output for charts 4 and 5\n",
    "out_4_and_5 = widgets.interactive_output(plot_charts_4_and_5, {'sleep_disorder': dd_sleep_disorder_4})\n",
    "\n",
    "# Display dropdowns and outputs\n",
    "display(dd_sleep_disorder_4, out_4_and_5)\n"
   ]
  },
  {
   "cell_type": "markdown",
   "metadata": {},
   "source": [
    "### Tom's Visualization / Interaction"
   ]
  },
  {
   "cell_type": "code",
   "execution_count": null,
   "metadata": {},
   "outputs": [],
   "source": [
    "sns.__version__"
   ]
  },
  {
   "cell_type": "code",
   "execution_count": null,
   "metadata": {},
   "outputs": [],
   "source": [
    "health_metrics = data[['person_id','heart_rate','systolic','diastolic']]\n",
    "h_diag = sns.PairGrid(data=health_metrics)\n",
    "h_diag.map_diag(sns.histplot)\n",
    "h_diag.map_offdiag(sns.scatterplot)\n",
    "plt.show()"
   ]
  }
 ],
 "metadata": {
  "kernelspec": {
   "display_name": "Python 3 (ipykernel)",
   "language": "python",
   "name": "python3"
  },
  "language_info": {
   "codemirror_mode": {
    "name": "ipython",
    "version": 3
   },
   "file_extension": ".py",
   "mimetype": "text/x-python",
   "name": "python",
   "nbconvert_exporter": "python",
   "pygments_lexer": "ipython3",
   "version": "3.10.13"
  }
 },
 "nbformat": 4,
 "nbformat_minor": 2
}
