{
 "cells": [
  {
   "cell_type": "markdown",
   "metadata": {},
   "source": [
    "### Importing Set Up - using Python 3.11.5"
   ]
  },
  {
   "cell_type": "code",
   "execution_count": 1,
   "metadata": {},
   "outputs": [],
   "source": [
    "import numpy as np\n",
    "import seaborn as sns\n",
    "import pandas as pd\n",
    "import matplotlib.pyplot as plt\n",
    "\n",
    "import ipywidgets as widgets\n",
    "\n",
    "import sqlalchemy\n",
    "from sqlalchemy.ext.automap import automap_base\n",
    "from sqlalchemy.orm import Session\n",
    "from sqlalchemy import create_engine, func, inspect\n",
    "from IPython.display import display\n",
    "\n",
    "import warnings\n",
    "warnings.filterwarnings(\"ignore\", \"is_categorical_dtype\")\n",
    "warnings.filterwarnings(\"ignore\", \"use_inf_as_na\")"
   ]
  },
  {
   "cell_type": "markdown",
   "metadata": {},
   "source": [
    "### Database Creation\n",
    "\n",
    "This is a separate file that we wrote to take care of all of the ETL processes."
   ]
  },
  {
   "cell_type": "code",
   "execution_count": 2,
   "metadata": {},
   "outputs": [],
   "source": [
    "execfile(\"Setup_and_Organization/Database_Setup.py\")"
   ]
  },
  {
   "cell_type": "markdown",
   "metadata": {},
   "source": [
    "### SQLite Database Connection"
   ]
  },
  {
   "cell_type": "code",
   "execution_count": 3,
   "metadata": {},
   "outputs": [],
   "source": [
    "engine = create_engine(\"sqlite:///Resources/database.sqlite\")\n",
    "conn=engine.connect()\n",
    "\n",
    "# reflect an existing database into a new model\n",
    "base = automap_base()\n",
    "# reflect the tables\n",
    "# base.prepare(engine,reflect=True)\n",
    "\n",
    "base.prepare(autoload_with=engine)"
   ]
  },
  {
   "cell_type": "markdown",
   "metadata": {},
   "source": [
    "### Data File Loading and Graph Formatting\n",
    "\n",
    "Once we have a connection to the database, we want to get the data we desire so that we can create visualizations with that data. We create one DataFrame that all visualizations can use. While all of the joins will create many columns, we're only selecting the columns that we need for the visualizations."
   ]
  },
  {
   "cell_type": "code",
   "execution_count": 4,
   "metadata": {},
   "outputs": [],
   "source": [
    "data = pd.read_sql('SELECT g.gender_name, b.bmi_name, o.occupation_name, h.stress_level, h.heart_rate, h.systolic, h.diastolic, \\\n",
    "            p.gender_id, s.sleep_duration, s.sleep_quality, p.age, sd.sleep_disorder_name, s.person_id\\\n",
    "            FROM person AS p\\\n",
    "            INNER JOIN sleep AS s\\\n",
    "            ON s.person_id = p.id\\\n",
    "            INNER JOIN occupation AS o\\\n",
    "            ON o.id = p.occupation_id\\\n",
    "            INNER JOIN gender AS g\\\n",
    "            ON p.gender_id = g.id\\\n",
    "            INNER JOIN sleep_disorder AS sd\\\n",
    "            ON sd.id = s.sleep_disorder_id\\\n",
    "            INNER JOIN health AS h\\\n",
    "            ON h.person_id = p.id\\\n",
    "            INNER JOIN bmi AS b\\\n",
    "            ON b.id = h.bmi_id',\n",
    "            conn) \n",
    "\n",
    "sns.set_palette(\"Paired\")\n",
    "engine.dispose()"
   ]
  },
  {
   "cell_type": "markdown",
   "metadata": {},
   "source": [
    "### Bryan's Visualization / Interaction"
   ]
  },
  {
   "cell_type": "code",
   "execution_count": 5,
   "metadata": {},
   "outputs": [
    {
     "data": {
      "application/vnd.jupyter.widget-view+json": {
       "model_id": "8dd52626d67042be8e890de5eaea6d2a",
       "version_major": 2,
       "version_minor": 0
      },
      "text/plain": [
       "HBox(children=(Dropdown(description='Category', options={'Age': 'age', 'Stress Level': 'stress_level', 'Heart …"
      ]
     },
     "metadata": {},
     "output_type": "display_data"
    },
    {
     "data": {
      "application/vnd.jupyter.widget-view+json": {
       "model_id": "672a938d1d2e4ef2a89a43bd1f720a95",
       "version_major": 2,
       "version_minor": 0
      },
      "text/plain": [
       "Output()"
      ]
     },
     "metadata": {},
     "output_type": "display_data"
    }
   ],
   "source": [
    "dd = widgets.Dropdown(\n",
    "    options = {\"Age\": \"age\", \"Stress Level\": \"stress_level\", \"Heart Rate\": \"heart_rate\", \"Systolic\": \"systolic\", \"Diastolic\": \"diastolic\"},\n",
    "    value = \"age\",\n",
    "    description = \"Category\"\n",
    ")\n",
    "\n",
    "# genders = data[\"gender_name\"].unique().tolist()\n",
    "\n",
    "dd1 = widgets.Dropdown(\n",
    "    options = [\"All\", \"Male\", \"Female\"],\n",
    "    value = \"All\",\n",
    "    description = \"Gender\"\n",
    ")\n",
    "\n",
    "# bmis = data[\"bmi_name\"].unique().tolist()\n",
    "\n",
    "dd2 = widgets.Dropdown(\n",
    "    options = [\"All\", \"Normal\", \"Overweight\", \"Obese\"],\n",
    "    value = \"All\",\n",
    "    description = \"BMI Type\"\n",
    ")\n",
    "\n",
    "def draw_plot(column, gender, bmi):    \n",
    "    \n",
    "    if (gender == \"All\"):\n",
    "        if (bmi == \"All\"):\n",
    "            mask = (data[\"gender_name\"].isin([\"Male\", \"Female\"])) & (data[\"bmi_name\"].isin([\"Normal\", \"Overweight\", \"Obese\"]))\n",
    "        else:\n",
    "            mask = (data[\"gender_name\"].isin([\"Male\", \"Female\"])) & (data[\"bmi_name\"] == bmi)\n",
    "    else:\n",
    "        if (bmi == \"All\"):\n",
    "            mask = (data[\"gender_name\"] == gender) & (data[\"bmi_name\"].isin([\"Normal\", \"Overweight\", \"Obese\"]))\n",
    "        else:\n",
    "            mask = (data[\"gender_name\"] == gender) & (data[\"bmi_name\"] == bmi)\n",
    "    #sns.set_theme(style = \"ticks\")\n",
    "    f, ax = plt.subplots(figsize = (8, 6))\n",
    "    sns.boxplot(x = data.loc[mask, column],\n",
    "                y = data.loc[mask, \"occupation_name\"], \n",
    "                hue = data[\"occupation_name\"],\n",
    "                palette = \"Paired\",\n",
    "                width = 0.6,\n",
    "                legend = False\n",
    "    )\n",
    "    sns.stripplot(\n",
    "        x = data.loc[mask, column],\n",
    "        y = data.loc[mask, \"occupation_name\"],\n",
    "        color = \"black\",\n",
    "        dodge = True,\n",
    "        edgecolor = \"black\"\n",
    "    )\n",
    "\n",
    "    column_proper = column.replace(\"_\", \" \").title()\n",
    "    ax.set_xlabel(column_proper, fontsize = 15)\n",
    "    ax.set_ylabel(\"Occupation\", fontsize = 15)\n",
    "    plt.title(f\"Distribution of {column_proper} per Occupation ({gender})\", fontsize = 18)\n",
    "    plt.tight_layout()\n",
    "    plt.savefig(f\"Images/{column}_gender-{gender}_bmi-{bmi}.png\")\n",
    "\n",
    "ddbox = widgets.HBox([dd, dd1, dd2])\n",
    "out1 = widgets.interactive_output(draw_plot, {\"column\": dd, \"gender\": dd1, \"bmi\": dd2})\n",
    "display(ddbox, out1)"
   ]
  },
  {
   "cell_type": "markdown",
   "metadata": {},
   "source": [
    "### Reed's Visualization / Interaction"
   ]
  },
  {
   "cell_type": "code",
   "execution_count": 6,
   "metadata": {},
   "outputs": [
    {
     "data": {
      "application/vnd.jupyter.widget-view+json": {
       "model_id": "a895b7e2279f4faf94f23aaca02e2d01",
       "version_major": 2,
       "version_minor": 0
      },
      "text/plain": [
       "Dropdown(description='Gender:', options=('All', 'Male', 'Female'), value='All')"
      ]
     },
     "metadata": {},
     "output_type": "display_data"
    },
    {
     "data": {
      "application/vnd.jupyter.widget-view+json": {
       "model_id": "880985065ef6424a88be30cd9cafac0c",
       "version_major": 2,
       "version_minor": 0
      },
      "text/plain": [
       "Output()"
      ]
     },
     "metadata": {},
     "output_type": "display_data"
    }
   ],
   "source": [
    "# Create a dropdown widget to select gender\n",
    "gender_dropdown = widgets.Dropdown(\n",
    "    options=[\"All\", 'Male', 'Female'],\n",
    "    description='Gender:'\n",
    ")\n",
    "def draw_plot2(item):\n",
    "    if item == \"All\":\n",
    "        mask = data[\"gender_name\"].isin([\"Male\", \"Female\"])\n",
    "    else:\n",
    "        mask = data[\"gender_name\"] == item\n",
    "    sns.relplot(x=data.loc[mask, \"age\"],\n",
    "                y=data.loc[mask,\"sleep_duration\"],\n",
    "                hue=data.loc[mask,\"stress_level\"],\n",
    "                size=data.loc[mask,\"sleep_quality\"],\n",
    "                sizes=(40, 400),\n",
    "                alpha=.5,\n",
    "                palette=\"Paired\",\n",
    "                height=6,\n",
    "                data=data)\\\n",
    "            .set(title= \"Sleep Duration vs Age\")\n",
    "out1= widgets.interactive_output(draw_plot2,{\"item\":gender_dropdown})\n",
    "display(gender_dropdown,out1)"
   ]
  },
  {
   "cell_type": "markdown",
   "metadata": {},
   "source": [
    "### Andrew's Visualization / Interaction"
   ]
  },
  {
   "cell_type": "code",
   "execution_count": 7,
   "metadata": {},
   "outputs": [
    {
     "data": {
      "text/html": [
       "<div>\n",
       "<style scoped>\n",
       "    .dataframe tbody tr th:only-of-type {\n",
       "        vertical-align: middle;\n",
       "    }\n",
       "\n",
       "    .dataframe tbody tr th {\n",
       "        vertical-align: top;\n",
       "    }\n",
       "\n",
       "    .dataframe thead th {\n",
       "        text-align: right;\n",
       "    }\n",
       "</style>\n",
       "<table border=\"1\" class=\"dataframe\">\n",
       "  <thead>\n",
       "    <tr style=\"text-align: right;\">\n",
       "      <th></th>\n",
       "      <th></th>\n",
       "      <th>sleep_duration</th>\n",
       "      <th>sleep_quality</th>\n",
       "    </tr>\n",
       "    <tr>\n",
       "      <th>occupation_name</th>\n",
       "      <th>sleep_disorder_name</th>\n",
       "      <th></th>\n",
       "      <th></th>\n",
       "    </tr>\n",
       "  </thead>\n",
       "  <tbody>\n",
       "    <tr>\n",
       "      <th rowspan=\"2\" valign=\"top\">Accountant</th>\n",
       "      <th>Insomnia</th>\n",
       "      <td>6.657143</td>\n",
       "      <td>7.142857</td>\n",
       "    </tr>\n",
       "    <tr>\n",
       "      <th>None</th>\n",
       "      <td>7.220000</td>\n",
       "      <td>8.066667</td>\n",
       "    </tr>\n",
       "    <tr>\n",
       "      <th rowspan=\"3\" valign=\"top\">Doctor</th>\n",
       "      <th>Insomnia</th>\n",
       "      <td>6.866667</td>\n",
       "      <td>6.666667</td>\n",
       "    </tr>\n",
       "    <tr>\n",
       "      <th>None</th>\n",
       "      <td>6.943750</td>\n",
       "      <td>6.578125</td>\n",
       "    </tr>\n",
       "    <tr>\n",
       "      <th>Sleep Apnea</th>\n",
       "      <td>7.475000</td>\n",
       "      <td>7.750000</td>\n",
       "    </tr>\n",
       "    <tr>\n",
       "      <th rowspan=\"3\" valign=\"top\">Engineer</th>\n",
       "      <th>Insomnia</th>\n",
       "      <td>7.440000</td>\n",
       "      <td>7.400000</td>\n",
       "    </tr>\n",
       "    <tr>\n",
       "      <th>None</th>\n",
       "      <td>8.038596</td>\n",
       "      <td>8.508772</td>\n",
       "    </tr>\n",
       "    <tr>\n",
       "      <th>Sleep Apnea</th>\n",
       "      <td>7.800000</td>\n",
       "      <td>8.000000</td>\n",
       "    </tr>\n",
       "    <tr>\n",
       "      <th rowspan=\"3\" valign=\"top\">Lawyer</th>\n",
       "      <th>Insomnia</th>\n",
       "      <td>7.400000</td>\n",
       "      <td>8.000000</td>\n",
       "    </tr>\n",
       "    <tr>\n",
       "      <th>None</th>\n",
       "      <td>7.419048</td>\n",
       "      <td>7.928571</td>\n",
       "    </tr>\n",
       "    <tr>\n",
       "      <th>Sleep Apnea</th>\n",
       "      <td>7.300000</td>\n",
       "      <td>7.333333</td>\n",
       "    </tr>\n",
       "    <tr>\n",
       "      <th>Manager</th>\n",
       "      <th>None</th>\n",
       "      <td>6.900000</td>\n",
       "      <td>7.000000</td>\n",
       "    </tr>\n",
       "    <tr>\n",
       "      <th rowspan=\"3\" valign=\"top\">Nurse</th>\n",
       "      <th>Insomnia</th>\n",
       "      <td>6.333333</td>\n",
       "      <td>5.333333</td>\n",
       "    </tr>\n",
       "    <tr>\n",
       "      <th>None</th>\n",
       "      <td>7.222222</td>\n",
       "      <td>7.555556</td>\n",
       "    </tr>\n",
       "    <tr>\n",
       "      <th>Sleep Apnea</th>\n",
       "      <td>7.075410</td>\n",
       "      <td>7.442623</td>\n",
       "    </tr>\n",
       "    <tr>\n",
       "      <th>Sales Representative</th>\n",
       "      <th>Sleep Apnea</th>\n",
       "      <td>5.900000</td>\n",
       "      <td>4.000000</td>\n",
       "    </tr>\n",
       "    <tr>\n",
       "      <th rowspan=\"3\" valign=\"top\">Salesperson</th>\n",
       "      <th>Insomnia</th>\n",
       "      <td>6.396552</td>\n",
       "      <td>6.000000</td>\n",
       "    </tr>\n",
       "    <tr>\n",
       "      <th>None</th>\n",
       "      <td>6.450000</td>\n",
       "      <td>6.000000</td>\n",
       "    </tr>\n",
       "    <tr>\n",
       "      <th>Sleep Apnea</th>\n",
       "      <td>6.500000</td>\n",
       "      <td>6.000000</td>\n",
       "    </tr>\n",
       "    <tr>\n",
       "      <th rowspan=\"2\" valign=\"top\">Scientist</th>\n",
       "      <th>None</th>\n",
       "      <td>6.200000</td>\n",
       "      <td>6.000000</td>\n",
       "    </tr>\n",
       "    <tr>\n",
       "      <th>Sleep Apnea</th>\n",
       "      <td>5.800000</td>\n",
       "      <td>4.000000</td>\n",
       "    </tr>\n",
       "    <tr>\n",
       "      <th rowspan=\"2\" valign=\"top\">Software Engineer</th>\n",
       "      <th>Insomnia</th>\n",
       "      <td>5.900000</td>\n",
       "      <td>4.000000</td>\n",
       "    </tr>\n",
       "    <tr>\n",
       "      <th>None</th>\n",
       "      <td>7.033333</td>\n",
       "      <td>7.333333</td>\n",
       "    </tr>\n",
       "    <tr>\n",
       "      <th rowspan=\"3\" valign=\"top\">Teacher</th>\n",
       "      <th>Insomnia</th>\n",
       "      <td>6.585185</td>\n",
       "      <td>6.888889</td>\n",
       "    </tr>\n",
       "    <tr>\n",
       "      <th>None</th>\n",
       "      <td>6.933333</td>\n",
       "      <td>7.555556</td>\n",
       "    </tr>\n",
       "    <tr>\n",
       "      <th>Sleep Apnea</th>\n",
       "      <td>6.850000</td>\n",
       "      <td>6.250000</td>\n",
       "    </tr>\n",
       "  </tbody>\n",
       "</table>\n",
       "</div>"
      ],
      "text/plain": [
       "                                          sleep_duration  sleep_quality\n",
       "occupation_name      sleep_disorder_name                               \n",
       "Accountant           Insomnia                   6.657143       7.142857\n",
       "                     None                       7.220000       8.066667\n",
       "Doctor               Insomnia                   6.866667       6.666667\n",
       "                     None                       6.943750       6.578125\n",
       "                     Sleep Apnea                7.475000       7.750000\n",
       "Engineer             Insomnia                   7.440000       7.400000\n",
       "                     None                       8.038596       8.508772\n",
       "                     Sleep Apnea                7.800000       8.000000\n",
       "Lawyer               Insomnia                   7.400000       8.000000\n",
       "                     None                       7.419048       7.928571\n",
       "                     Sleep Apnea                7.300000       7.333333\n",
       "Manager              None                       6.900000       7.000000\n",
       "Nurse                Insomnia                   6.333333       5.333333\n",
       "                     None                       7.222222       7.555556\n",
       "                     Sleep Apnea                7.075410       7.442623\n",
       "Sales Representative Sleep Apnea                5.900000       4.000000\n",
       "Salesperson          Insomnia                   6.396552       6.000000\n",
       "                     None                       6.450000       6.000000\n",
       "                     Sleep Apnea                6.500000       6.000000\n",
       "Scientist            None                       6.200000       6.000000\n",
       "                     Sleep Apnea                5.800000       4.000000\n",
       "Software Engineer    Insomnia                   5.900000       4.000000\n",
       "                     None                       7.033333       7.333333\n",
       "Teacher              Insomnia                   6.585185       6.888889\n",
       "                     None                       6.933333       7.555556\n",
       "                     Sleep Apnea                6.850000       6.250000"
      ]
     },
     "execution_count": 7,
     "metadata": {},
     "output_type": "execute_result"
    }
   ],
   "source": [
    "means_by_occupation = data.groupby(['occupation_name', 'sleep_disorder_name']).agg({'sleep_duration': 'mean', 'sleep_quality': 'mean'})\n",
    "\n",
    "means_by_occupation"
   ]
  },
  {
   "cell_type": "code",
   "execution_count": 8,
   "metadata": {},
   "outputs": [
    {
     "data": {
      "image/png": "[encoded data removed]",
      "text/plain": [
       "<Figure size 1000x600 with 1 Axes>"
      ]
     },
     "metadata": {},
     "output_type": "display_data"
    }
   ],
   "source": [
    "# 1. Sleep Duration/Quality vs Occupation\n",
    "plt.figure(figsize=(10, 6))\n",
    "ax = sns.barplot(data=data, x='occupation_name', y='sleep_duration', hue='sleep_quality', palette=\"Paired\")\n",
    "plt.title('Sleep Duration/Quality vs Occupation')\n",
    "plt.xlabel('Occupation')\n",
    "plt.ylabel('Sleep Duration')\n",
    "# Rotate the job titles by 45 degrees\n",
    "plt.xticks(rotation=45)\n",
    "# Customize legend labels as numbers from 0 to 10 and legend title\n",
    "legend_labels = [f'{label}/10' for label in range(11)]\n",
    "legend_title = 'Quality of Sleep out of 10'\n",
    "legend = plt.legend(title=legend_title, loc='upper left', fontsize='small', bbox_to_anchor=(1, 1))\n",
    "if len(legend_labels) == len(legend.get_texts()):\n",
    "    for i, text in enumerate(legend_labels):\n",
    "        legend.get_texts()[i].set_text(text)\n",
    "plt.tight_layout()"
   ]
  },
  {
   "cell_type": "code",
   "execution_count": 9,
   "metadata": {},
   "outputs": [
    {
     "data": {
      "text/plain": [
       "occupation_name\n",
       "Accountant              4.594595\n",
       "Doctor                  6.732394\n",
       "Engineer                3.888889\n",
       "Lawyer                  5.063830\n",
       "Manager                 5.000000\n",
       "Nurse                   5.547945\n",
       "Sales Representative    8.000000\n",
       "Salesperson             7.000000\n",
       "Scientist               7.000000\n",
       "Software Engineer       6.000000\n",
       "Teacher                 4.525000\n",
       "Name: stress_level, dtype: float64"
      ]
     },
     "execution_count": 9,
     "metadata": {},
     "output_type": "execute_result"
    }
   ],
   "source": [
    "# Calculate the mean stress level per occupation\n",
    "mean_stress_per_occupation = data.groupby('occupation_name')['stress_level'].mean()\n",
    "\n",
    "# Display the mean stress level per occupation\n",
    "mean_stress_per_occupation"
   ]
  },
  {
   "cell_type": "code",
   "execution_count": 10,
   "metadata": {},
   "outputs": [
    {
     "data": {
      "image/png": "[encoded data removed]",
      "text/plain": [
       "<Figure size 1000x600 with 1 Axes>"
      ]
     },
     "metadata": {},
     "output_type": "display_data"
    }
   ],
   "source": [
    "# 6. Stress Level vs Occupation\n",
    "plt.figure(figsize=(10, 6))\n",
    "sns.barplot(data=data, x='occupation_name', y='stress_level')\n",
    "plt.title('Stress Level vs Occupation')\n",
    "plt.xlabel('Occupation')\n",
    "plt.ylabel('Stress Level')\n",
    "plt.xticks(rotation=45)\n",
    "plt.tight_layout()\n",
    "\n",
    "plt.show()"
   ]
  },
  {
   "cell_type": "code",
   "execution_count": 11,
   "metadata": {},
   "outputs": [
    {
     "name": "stdout",
     "output_type": "stream",
     "text": [
      "Mean Sleep Duration per Occupation:\n",
      "occupation_name\n",
      "Accountant              7.113514\n",
      "Doctor                  6.970423\n",
      "Engineer                7.987302\n",
      "Lawyer                  7.410638\n",
      "Manager                 6.900000\n",
      "Nurse                   7.063014\n",
      "Sales Representative    5.900000\n",
      "Salesperson             6.403125\n",
      "Scientist               6.000000\n",
      "Software Engineer       6.750000\n",
      "Teacher                 6.690000\n",
      "Name: sleep_duration, dtype: float64\n",
      "\n",
      "Mean Sleep Quality per Occupation:\n",
      "occupation_name\n",
      "Accountant              7.891892\n",
      "Doctor                  6.647887\n",
      "Engineer                8.412698\n",
      "Lawyer                  7.893617\n",
      "Manager                 7.000000\n",
      "Nurse                   7.369863\n",
      "Sales Representative    4.000000\n",
      "Salesperson             6.000000\n",
      "Scientist               5.000000\n",
      "Software Engineer       6.500000\n",
      "Teacher                 6.975000\n",
      "Name: sleep_quality, dtype: float64\n"
     ]
    }
   ],
   "source": [
    "# Calculate the mean sleep duration and quality per occupation\n",
    "mean_sleep_duration = data.groupby('occupation_name')['sleep_duration'].mean()\n",
    "mean_sleep_quality = data.groupby('occupation_name')['sleep_quality'].mean()\n",
    "\n",
    "# Display the mean sleep duration per occupation\n",
    "print(\"Mean Sleep Duration per Occupation:\")\n",
    "print(mean_sleep_duration)\n",
    "\n",
    "# Display the mean sleep quality per occupation\n",
    "print(\"\\nMean Sleep Quality per Occupation:\")\n",
    "print(mean_sleep_quality)"
   ]
  },
  {
   "cell_type": "code",
   "execution_count": 12,
   "metadata": {},
   "outputs": [
    {
     "name": "stdout",
     "output_type": "stream",
     "text": [
      "Mean Sleep Duration per Disorder:\n",
      "sleep_disorder_name\n",
      "Insomnia       6.589610\n",
      "None           7.358447\n",
      "Sleep Apnea    7.032051\n",
      "Name: sleep_duration, dtype: float64\n",
      "\n",
      "Mean Sleep Quality per Disorder:\n",
      "sleep_disorder_name\n",
      "Insomnia       6.532468\n",
      "None           7.625571\n",
      "Sleep Apnea    7.205128\n",
      "Name: sleep_quality, dtype: float64\n"
     ]
    }
   ],
   "source": [
    "mean_sleep_duration_per_disorder = data.groupby('sleep_disorder_name')['sleep_duration'].mean()\n",
    "mean_sleep_quality_per_disorder = data.groupby('sleep_disorder_name')['sleep_quality'].mean()\n",
    "\n",
    "# Display the mean sleep duration per disorder\n",
    "print(\"Mean Sleep Duration per Disorder:\")\n",
    "print(mean_sleep_duration_per_disorder)\n",
    "\n",
    "# Display the mean sleep quality per disorder\n",
    "print(\"\\nMean Sleep Quality per Disorder:\")\n",
    "print(mean_sleep_quality_per_disorder)"
   ]
  },
  {
   "cell_type": "code",
   "execution_count": 13,
   "metadata": {},
   "outputs": [
    {
     "data": {
      "application/vnd.jupyter.widget-view+json": {
       "model_id": "d7ca834a883b40ea839aec5ac562018b",
       "version_major": 2,
       "version_minor": 0
      },
      "text/plain": [
       "Dropdown(description='Metric:', options=('Sleep Quality', 'Sleep Duration'), value='Sleep Quality')"
      ]
     },
     "metadata": {},
     "output_type": "display_data"
    },
    {
     "data": {
      "application/vnd.jupyter.widget-view+json": {
       "model_id": "5ae10ca020e24778a44c7f244c5cc3dc",
       "version_major": 2,
       "version_minor": 0
      },
      "text/plain": [
       "HBox(children=(Output(), Output()))"
      ]
     },
     "metadata": {},
     "output_type": "display_data"
    }
   ],
   "source": [
    "# Sleep Duration/Quality vs Occupation\n",
    "\n",
    "# Dropdown for selecting Sleep Quality or Sleep Duration\n",
    "dd_metric = widgets.Dropdown(\n",
    "    options=['Sleep Quality', 'Sleep Duration'],\n",
    "    value='Sleep Quality',\n",
    "    description='Metric:'\n",
    ")\n",
    "\n",
    "def plot_charts1(metric):\n",
    "    if metric == 'Sleep Quality':\n",
    "        plt.figure(figsize=(10, 6))\n",
    "        sns.barplot(data=data, x='occupation_name', y='sleep_quality', hue='sleep_disorder_name', palette= \"Paired\")\n",
    "        plt.title('Quality of Sleep vs Occupation')\n",
    "        plt.xlabel('Occupation')\n",
    "        plt.ylabel('Quality of Sleep')\n",
    "        plt.xticks(rotation=45)\n",
    "        legend = plt.legend(title='Sleep Disorder', loc='upper left', fontsize='small', bbox_to_anchor=(1, 1))\n",
    "        legend.set_title('Sleep Disorder', prop={'size': 'small'})\n",
    "        plt.tight_layout()\n",
    "        plt.show()\n",
    "    elif metric == 'Sleep Duration':\n",
    "        plt.figure(figsize=(10, 6))\n",
    "        sns.barplot(data=data, x='occupation_name', y='sleep_duration', hue='sleep_disorder_name', palette= \"Paired\")\n",
    "        plt.title('Sleep Duration vs Occupation')\n",
    "        plt.xlabel('Occupation')\n",
    "        plt.ylabel('Sleep Duration')\n",
    "        plt.xticks(rotation=45)\n",
    "        legend = plt.legend(title='Sleep Disorder', loc='upper left', fontsize='small', bbox_to_anchor=(1, 1))\n",
    "        legend.set_title('Sleep Disorder', prop={'size': 'small'})\n",
    "        plt.tight_layout()\n",
    "        plt.show()\n",
    "\n",
    "def plot_charts2(metric):\n",
    "    if metric == 'Sleep Quality':\n",
    "        # Quality of Sleep vs Sleep Disorder\n",
    "        plt.figure(figsize=(10, 6))\n",
    "        sns.barplot(data=data, x='sleep_disorder_name', y='sleep_quality', hue= \"sleep_disorder_name\", palette= \"Paired\")\n",
    "        plt.title('Quality of Sleep vs Sleep Disorder')\n",
    "        plt.xlabel('Sleep Disorder')\n",
    "        plt.ylabel('Quality of Sleep')\n",
    "        plt.xticks(rotation=45)\n",
    "        plt.tight_layout()\n",
    "    elif metric == 'Sleep Duration':\n",
    "        # Sleep Duration/Quality vs Sleep Disorder\n",
    "        plt.figure(figsize=(10, 6))\n",
    "        sns.barplot(data=data, x='sleep_disorder_name', y='sleep_duration', hue = \"sleep_disorder_name\", palette= \"Paired\")\n",
    "        plt.title('Sleep Duration vs Sleep Disorder')\n",
    "        plt.xlabel('Sleep Disorder')\n",
    "        plt.ylabel('Sleep Duration')\n",
    "        plt.xticks(rotation=45)\n",
    "        plt.tight_layout()\n",
    "\n",
    "\n",
    "# Interactive output for the plot\n",
    "out_metric1 = widgets.interactive_output(plot_charts1, {'metric': dd_metric})\n",
    "\n",
    "out_metric2 = widgets.interactive_output(plot_charts2, {\"metric\": dd_metric})\n",
    "\n",
    "out_metric = widgets.HBox([out_metric1, out_metric2])\n",
    "\n",
    "\n",
    "# Display dropdown and output\n",
    "display(dd_metric, out_metric)"
   ]
  },
  {
   "cell_type": "code",
   "execution_count": 14,
   "metadata": {},
   "outputs": [
    {
     "data": {
      "application/vnd.jupyter.widget-view+json": {
       "model_id": "61de696407be4e8cb757cade5f5aff9a",
       "version_major": 2,
       "version_minor": 0
      },
      "text/plain": [
       "HBox(children=(Dropdown(description='Gender', options=('Male', 'Female'), value='Male'), Dropdown(description=…"
      ]
     },
     "metadata": {},
     "output_type": "display_data"
    },
    {
     "data": {
      "application/vnd.jupyter.widget-view+json": {
       "model_id": "ef9a32764864497ea86c66abbc409873",
       "version_major": 2,
       "version_minor": 0
      },
      "text/plain": [
       "Output()"
      ]
     },
     "metadata": {},
     "output_type": "display_data"
    }
   ],
   "source": [
    "df = data.copy()\n",
    "\n",
    "dd_gender = widgets.Dropdown(\n",
    "    options=[\"Male\", \"Female\"],\n",
    "    value=\"Male\",\n",
    "    description=\"Gender\"\n",
    ")\n",
    "\n",
    "dd_age = widgets.Dropdown(\n",
    "    options=[\"20-29\", \"30-39\", \"40-49\"],\n",
    "    value=\"20-29\",\n",
    "    description=\"Age Group\"\n",
    ")\n",
    "\n",
    "dd_column = widgets.Dropdown(\n",
    "    options={\"Sleep Duration\": \"sleep_duration\", \"Sleep Quality\": \"sleep_quality\"},\n",
    "    value=\"sleep_duration\",\n",
    "    description=\"Sleep Type\"\n",
    ")\n",
    "\n",
    "def plot_barcharts(gender, age, column):\n",
    "    data_filtered = df.loc[(df[\"gender_name\"] == gender) & (df[\"age\"] // 10 * 10 == int(age.split(\"-\")[0]))]\n",
    "    \n",
    "    if data_filtered.empty:\n",
    "        print(\"No data available for the selected gender and age group.\")\n",
    "        return\n",
    "    \n",
    "    plt.figure(figsize=(10, 6))\n",
    "    ax = sns.barplot(data=data_filtered, x=\"age\", y=column)\n",
    "    plt.title(f'{gender} {age} vs {column.replace(\"_\", \" \").title()}')\n",
    "    plt.xlabel('Age')\n",
    "    plt.ylabel(column.replace(\"_\", \" \").title())\n",
    "    plt.tight_layout()\n",
    "\n",
    "ddbox = widgets.HBox([dd_gender, dd_age, dd_column])\n",
    "\n",
    "out = widgets.interactive_output(plot_barcharts, {\"gender\": dd_gender, \"age\": dd_age, \"column\": dd_column})\n",
    "\n",
    "display(ddbox, out)"
   ]
  },
  {
   "cell_type": "markdown",
   "metadata": {},
   "source": [
    "### Health Factors By Gender"
   ]
  },
  {
   "cell_type": "code",
   "execution_count": 18,
   "metadata": {},
   "outputs": [
    {
     "data": {
      "application/vnd.jupyter.widget-view+json": {
       "model_id": "90574614c0354a7cb8eda155d7f16d2e",
       "version_major": 2,
       "version_minor": 0
      },
      "text/plain": [
       "Dropdown(description='Gender', options=('All', 'Male', 'Female'), value='All')"
      ]
     },
     "metadata": {},
     "output_type": "display_data"
    },
    {
     "data": {
      "application/vnd.jupyter.widget-view+json": {
       "model_id": "270adf4a37b546f8b2bb2632dc4d36bf",
       "version_major": 2,
       "version_minor": 0
      },
      "text/plain": [
       "Output()"
      ]
     },
     "metadata": {},
     "output_type": "display_data"
    }
   ],
   "source": [
    "health_metrics = data[['person_id','heart_rate','systolic','diastolic','gender_name']]\n",
    "\n",
    "genderBox = widgets.Dropdown(\n",
    "    options = ['All','Male', 'Female'], #'Male & Female',\n",
    "    value = 'All',\n",
    "    description = 'Gender'\n",
    ")\n",
    "def health_plot(gender):\n",
    "    if (gender == 'All'): #total population\n",
    "        mask = (health_metrics['gender_name'].isin(['Male', 'Female']))\n",
    "    else: # male or female\n",
    "        mask = (health_metrics['gender_name'] == gender)\n",
    "    h_diag = sns.PairGrid(data=health_metrics.loc[mask,['person_id','heart_rate','systolic','diastolic']])\n",
    "    h_diag.map_diag(sns.histplot)\n",
    "    h_diag.map_offdiag(sns.scatterplot)\n",
    "    plt.tight_layout()\n",
    "    plt.savefig(f\"Images/health_factors_by_gender_{gender}.png\")\n",
    "outh = widgets.interactive_output(health_plot, {'gender': genderBox})\n",
    "display(genderBox, outh)"
   ]
  },
  {
   "cell_type": "code",
   "execution_count": null,
   "metadata": {},
   "outputs": [],
   "source": []
  }
 ],
 "metadata": {
  "kernelspec": {
   "display_name": "base",
   "language": "python",
   "name": "python3"
  },
  "language_info": {
   "codemirror_mode": {
    "name": "ipython",
    "version": 3
   },
   "file_extension": ".py",
   "mimetype": "text/x-python",
   "name": "python",
   "nbconvert_exporter": "python",
   "pygments_lexer": "ipython3",
   "version": "3.11.5"
  }
 },
 "nbformat": 4,
 "nbformat_minor": 2
}
