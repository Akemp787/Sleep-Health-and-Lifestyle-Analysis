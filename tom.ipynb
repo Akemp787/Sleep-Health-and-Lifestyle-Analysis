{
 "cells": [
  {
   "cell_type": "markdown",
   "metadata": {},
   "source": [
    "# Setup"
   ]
  },
  {
   "cell_type": "code",
   "execution_count": 2,
   "metadata": {},
   "outputs": [],
   "source": [
    "import numpy as np\n",
    "import seaborn as sns\n",
    "import pandas as pd\n",
    "import csv\n",
    "\n",
    "import sqlalchemy\n",
    "from sqlalchemy.ext.automap import automap_base\n",
    "from sqlalchemy.orm import Session\n",
    "from sqlalchemy import create_engine, func\n",
    "from ipywidgets import interact\n",
    "\n",
    "from flask import Flask, jsonify\n"
   ]
  },
  {
   "cell_type": "code",
   "execution_count": 29,
   "metadata": {},
   "outputs": [],
   "source": [
    "# create and save database\n",
    "execfile(\"Setup and Organization/Database Setup.py\")"
   ]
  },
  {
   "cell_type": "code",
   "execution_count": 30,
   "metadata": {},
   "outputs": [],
   "source": [
    "# create engine to newly created database.sqlite\n",
    "engine = create_engine(\"sqlite:///Resources/database.sqlite\")\n",
    "#conn=engine.connect()\n"
   ]
  },
  {
   "cell_type": "markdown",
   "metadata": {},
   "source": [
    "# Explore Database"
   ]
  },
  {
   "cell_type": "code",
   "execution_count": 31,
   "metadata": {},
   "outputs": [
    {
     "data": {
      "text/plain": [
       "['activity',\n",
       " 'bmi',\n",
       " 'gender',\n",
       " 'health',\n",
       " 'occupation',\n",
       " 'person',\n",
       " 'sleep',\n",
       " 'sleep_disorder']"
      ]
     },
     "execution_count": 31,
     "metadata": {},
     "output_type": "execute_result"
    }
   ],
   "source": [
    "# explore database\n",
    "inspector = inspect(engine)\n",
    "inspector.get_table_names()"
   ]
  },
  {
   "cell_type": "code",
   "execution_count": 32,
   "metadata": {},
   "outputs": [
    {
     "data": {
      "text/plain": [
       "[{'name': 'index',\n",
       "  'type': BIGINT(),\n",
       "  'nullable': True,\n",
       "  'default': None,\n",
       "  'primary_key': 0},\n",
       " {'name': 'id',\n",
       "  'type': BIGINT(),\n",
       "  'nullable': True,\n",
       "  'default': None,\n",
       "  'primary_key': 0},\n",
       " {'name': 'person_id',\n",
       "  'type': BIGINT(),\n",
       "  'nullable': True,\n",
       "  'default': None,\n",
       "  'primary_key': 0},\n",
       " {'name': 'activity_level',\n",
       "  'type': BIGINT(),\n",
       "  'nullable': True,\n",
       "  'default': None,\n",
       "  'primary_key': 0},\n",
       " {'name': 'daily_steps',\n",
       "  'type': BIGINT(),\n",
       "  'nullable': True,\n",
       "  'default': None,\n",
       "  'primary_key': 0}]"
      ]
     },
     "execution_count": 32,
     "metadata": {},
     "output_type": "execute_result"
    }
   ],
   "source": [
    "inspector.get_columns('activity')"
   ]
  },
  {
   "cell_type": "markdown",
   "metadata": {},
   "source": [
    "# Reflect and query data"
   ]
  },
  {
   "cell_type": "code",
   "execution_count": 14,
   "metadata": {},
   "outputs": [],
   "source": [
    "# Create a base class for declarating class definitions to produce Table objects\n",
    "Base = declarative_base()\n",
    "\n",
    "# Create Database Connection\n",
    "#engine = create_engine(f\"sqlite:///Resources/database.sqlite\")\n",
    "Base.metadata.create_all(engine) #Carlos recommends after creating class"
   ]
  },
  {
   "cell_type": "code",
   "execution_count": null,
   "metadata": {},
   "outputs": [],
   "source": [
    "engine"
   ]
  },
  {
   "cell_type": "code",
   "execution_count": 44,
   "metadata": {},
   "outputs": [
    {
     "name": "stdout",
     "output_type": "stream",
     "text": [
      "keys []\n"
     ]
    }
   ],
   "source": [
    "#engine = create_engine(f\"sqlite:///Resources/database.sqlite\")\n",
    "# reflect an existing database into a new model\n",
    "Base = automap_base()\n",
    "# reflect the tables\n",
    "Base.prepare(autoload_with=engine)\n",
    "print(\"keys\", Base.classes.keys())\n",
    "\n",
    "Base.metadata.create_all(engine) #Carlos recommends after creating class\n"
   ]
  },
  {
   "cell_type": "code",
   "execution_count": 43,
   "metadata": {},
   "outputs": [
    {
     "data": {
      "text/plain": [
       "<sqlalchemy.util._collections.Properties at 0x20b6b1da0e0>"
      ]
     },
     "execution_count": 43,
     "metadata": {},
     "output_type": "execute_result"
    }
   ],
   "source": [
    "Base.classes.keys()"
   ]
  },
  {
   "cell_type": "code",
   "execution_count": 38,
   "metadata": {},
   "outputs": [
    {
     "ename": "AttributeError",
     "evalue": "activity",
     "output_type": "error",
     "traceback": [
      "\u001b[1;31m---------------------------------------------------------------------------\u001b[0m",
      "\u001b[1;31mKeyError\u001b[0m                                  Traceback (most recent call last)",
      "File \u001b[1;32mc:\\Users\\tpreg\\anaconda3\\Lib\\site-packages\\sqlalchemy\\util\\_collections.py:214\u001b[0m, in \u001b[0;36mProperties.__getattr__\u001b[1;34m(self, key)\u001b[0m\n\u001b[0;32m    213\u001b[0m \u001b[38;5;28;01mtry\u001b[39;00m:\n\u001b[1;32m--> 214\u001b[0m     \u001b[38;5;28;01mreturn\u001b[39;00m \u001b[38;5;28mself\u001b[39m\u001b[38;5;241m.\u001b[39m_data[key]\n\u001b[0;32m    215\u001b[0m \u001b[38;5;28;01mexcept\u001b[39;00m \u001b[38;5;167;01mKeyError\u001b[39;00m:\n",
      "\u001b[1;31mKeyError\u001b[0m: 'activity'",
      "\nDuring handling of the above exception, another exception occurred:\n",
      "\u001b[1;31mAttributeError\u001b[0m                            Traceback (most recent call last)",
      "Cell \u001b[1;32mIn[38], line 1\u001b[0m\n\u001b[1;32m----> 1\u001b[0m activity \u001b[38;5;241m=\u001b[39m Base\u001b[38;5;241m.\u001b[39mclasses\u001b[38;5;241m.\u001b[39mactivity\n",
      "File \u001b[1;32mc:\\Users\\tpreg\\anaconda3\\Lib\\site-packages\\sqlalchemy\\util\\_collections.py:216\u001b[0m, in \u001b[0;36mProperties.__getattr__\u001b[1;34m(self, key)\u001b[0m\n\u001b[0;32m    214\u001b[0m     \u001b[38;5;28;01mreturn\u001b[39;00m \u001b[38;5;28mself\u001b[39m\u001b[38;5;241m.\u001b[39m_data[key]\n\u001b[0;32m    215\u001b[0m \u001b[38;5;28;01mexcept\u001b[39;00m \u001b[38;5;167;01mKeyError\u001b[39;00m:\n\u001b[1;32m--> 216\u001b[0m     \u001b[38;5;28;01mraise\u001b[39;00m \u001b[38;5;167;01mAttributeError\u001b[39;00m(key)\n",
      "\u001b[1;31mAttributeError\u001b[0m: activity"
     ]
    }
   ],
   "source": [
    "activity = Base.classes.activity"
   ]
  },
  {
   "cell_type": "code",
   "execution_count": 35,
   "metadata": {},
   "outputs": [
    {
     "data": {
      "text/plain": [
       "FacadeDict({'activity': Table('activity', MetaData(), Column('index', BIGINT(), table=<activity>), Column('id', BIGINT(), table=<activity>), Column('person_id', BIGINT(), table=<activity>), Column('activity_level', BIGINT(), table=<activity>), Column('daily_steps', BIGINT(), table=<activity>), schema=None), 'bmi': Table('bmi', MetaData(), Column('index', BIGINT(), table=<bmi>), Column('id', BIGINT(), table=<bmi>), Column('bmi_name', TEXT(), table=<bmi>), schema=None), 'gender': Table('gender', MetaData(), Column('index', BIGINT(), table=<gender>), Column('id', BIGINT(), table=<gender>), Column('gender_name', TEXT(), table=<gender>), schema=None), 'health': Table('health', MetaData(), Column('index', BIGINT(), table=<health>), Column('id', BIGINT(), table=<health>), Column('person_id', BIGINT(), table=<health>), Column('blood_pressure', TEXT(), table=<health>), Column('stress_level', BIGINT(), table=<health>), Column('heart_rate', BIGINT(), table=<health>), Column('systolic', BIGINT(), table=<health>), Column('diastolic', BIGINT(), table=<health>), Column('bmi_id', BIGINT(), table=<health>), schema=None), 'occupation': Table('occupation', MetaData(), Column('index', BIGINT(), table=<occupation>), Column('id', BIGINT(), table=<occupation>), Column('occupation_name', TEXT(), table=<occupation>), schema=None), 'person': Table('person', MetaData(), Column('index', BIGINT(), table=<person>), Column('id', BIGINT(), table=<person>), Column('gender_id', BIGINT(), table=<person>), Column('age', BIGINT(), table=<person>), Column('occupation_id', BIGINT(), table=<person>), schema=None), 'sleep': Table('sleep', MetaData(), Column('index', BIGINT(), table=<sleep>), Column('id', BIGINT(), table=<sleep>), Column('person_id', BIGINT(), table=<sleep>), Column('sleep_duration', FLOAT(), table=<sleep>), Column('sleep_quality', BIGINT(), table=<sleep>), Column('sleep_disorder_id', BIGINT(), table=<sleep>), schema=None), 'sleep_disorder': Table('sleep_disorder', MetaData(), Column('index', BIGINT(), table=<sleep_disorder>), Column('id', BIGINT(), table=<sleep_disorder>), Column('sleep_disorder_name', TEXT(), table=<sleep_disorder>), schema=None)})"
      ]
     },
     "execution_count": 35,
     "metadata": {},
     "output_type": "execute_result"
    }
   ],
   "source": [
    "Base.metadata.tables"
   ]
  },
  {
   "cell_type": "code",
   "execution_count": 41,
   "metadata": {},
   "outputs": [],
   "source": [
    "for mappedclass in Base.classes:\n",
    "    print(mappedclass)\n",
    "\n"
   ]
  },
  {
   "cell_type": "code",
   "execution_count": 42,
   "metadata": {},
   "outputs": [
    {
     "name": "stdout",
     "output_type": "stream",
     "text": [
      "activity\n",
      "bmi\n",
      "gender\n",
      "health\n",
      "occupation\n",
      "person\n",
      "sleep\n",
      "sleep_disorder\n"
     ]
    }
   ],
   "source": [
    "for mdtable in Base.metadata.tables:\n",
    "    print(mdtable)"
   ]
  },
  {
   "cell_type": "code",
   "execution_count": null,
   "metadata": {},
   "outputs": [],
   "source": [
    "# get age from person.csv    X\n",
    "# get age, occupation and id from person.csv     text value\n",
    "# toggle between gender\n",
    "age= Person.age\n",
    "occupation= Person.occupation_id\n",
    "gender= Person.gender_id\n",
    "\n",
    "# get sleep duration from sleep.csv    Y\n",
    "# get quality of sleep from sleep.csv    marker size\n",
    "durration = Sleep.sleep_duration\n",
    "quality = Sleep.sleep_quality\n",
    "\n",
    "# get stress_level from health.csv    marker color\n",
    "stress = Health.stress_level"
   ]
  },
  {
   "cell_type": "code",
   "execution_count": null,
   "metadata": {},
   "outputs": [],
   "source": [
    "print(Base.sleep)"
   ]
  },
  {
   "cell_type": "code",
   "execution_count": null,
   "metadata": {},
   "outputs": [],
   "source": [
    "session= Session(engine)\n",
    "\n"
   ]
  },
  {
   "cell_type": "code",
   "execution_count": null,
   "metadata": {},
   "outputs": [],
   "source": []
  }
 ],
 "metadata": {
  "kernelspec": {
   "display_name": "base",
   "language": "python",
   "name": "python3"
  },
  "language_info": {
   "codemirror_mode": {
    "name": "ipython",
    "version": 3
   },
   "file_extension": ".py",
   "mimetype": "text/x-python",
   "name": "python",
   "nbconvert_exporter": "python",
   "pygments_lexer": "ipython3",
   "version": "3.11.5"
  }
 },
 "nbformat": 4,
 "nbformat_minor": 2
}
